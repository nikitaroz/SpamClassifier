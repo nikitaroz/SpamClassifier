{
 "cells": [
  {
   "cell_type": "code",
   "execution_count": 1,
   "metadata": {},
   "outputs": [],
   "source": [
    "# https://stackoverflow.com/questions/34478398/import-local-function-from-a-module-housed-in-another-directory-with-relative-im\n",
    "\n",
    "import os\n",
    "import sys\n",
    "module_path = os.path.abspath(os.path.join('..'))\n",
    "if module_path not in sys.path:\n",
    "    sys.path.append(module_path)\n",
    "\n",
    "from common.utils import get_data_urls, fetch_data, get_labeled_files"
   ]
  },
  {
   "cell_type": "code",
   "execution_count": 2,
   "metadata": {},
   "outputs": [],
   "source": [
    "#data_urls = get_data_urls()\n",
    "#fetch_data(data_urls)\n",
    "\n",
    "data_files, class_labels = get_labeled_files()"
   ]
  },
  {
   "cell_type": "code",
   "execution_count": 3,
   "metadata": {},
   "outputs": [
    {
     "output_type": "stream",
     "name": "stdout",
     "text": [
      "Training set size is\t 7479\nTest set size is\t 1870\n"
     ]
    }
   ],
   "source": [
    "from sklearn.model_selection import train_test_split\n",
    "\n",
    "train_files, test_files, y_train, y_test = train_test_split(data_files, class_labels,\n",
    "                                                            test_size=0.2, random_state=44)\n",
    "print(f\"Training set size is\\t {len(train_files)}\")\n",
    "print(f\"Test set size is\\t {len(test_files)}\")"
   ]
  },
  {
   "cell_type": "code",
   "execution_count": 4,
   "metadata": {},
   "outputs": [],
   "source": [
    "from common.message import Message\n",
    "from common.message_transformer import MessageTransformer\n",
    "from sklearn.compose import ColumnTransformer\n",
    "from sklearn.pipeline import Pipeline\n",
    "from sklearn.feature_extraction.text import TfidfVectorizer\n",
    "\n",
    "pipeline = Pipeline([\n",
    "    (\"message_trf\", MessageTransformer()),\n",
    "    (\"vectorizer\", \n",
    "         ColumnTransformer([\n",
    "            (\"tdidf_body_vectorizer\", TfidfVectorizer(max_features=100), \"tokens\"),\n",
    "         ])\n",
    "    )\n",
    "])"
   ]
  },
  {
   "cell_type": "code",
   "execution_count": 5,
   "metadata": {
    "tags": []
   },
   "outputs": [
    {
     "output_type": "stream",
     "name": "stderr",
     "text": [
      "Email content 'ms-tnef' not handled\n",
      "Email content 'pgp-signature' not handled\n",
      "Email content 'pgp-signature' not handled\n"
     ]
    }
   ],
   "source": [
    "from mailparser import mailparser\n",
    "from common.message import Message\n",
    "\n",
    "N = 100\n",
    "\n",
    "messages = []\n",
    "for i, message in enumerate(train_files[:N]):\n",
    "    try:\n",
    "        m = Message(mailparser.parse_from_file(message))\n",
    "    except OSError:\n",
    "        m = Message(mailparser.parse_from_string(\" \"))\n",
    "    messages.append(m)\n",
    "\n",
    "labels = y_train[:N]\n",
    "\n",
    "features = pipeline.fit_transform(messages)"
   ]
  },
  {
   "cell_type": "code",
   "execution_count": 6,
   "metadata": {},
   "outputs": [],
   "source": [
    "import xgboost as xgb\n",
    "from sklearn.model_selection import GridSearchCV\n",
    "\n",
    "parameters = {\n",
    "    \"lambda\": (0.0,), # (0.0, 0.1, 1.0, 5.0),\n",
    "    \"alpha\": (0.0,), # (0.0, 0.1, 1.0, 5.0),\n",
    "}\n",
    "xgb_clf = xgb.XGBClassifier(booster=\"gblinear\")\n",
    "clf = GridSearchCV(xgb_clf, parameters)\n",
    "clf.fit(features, labels)\n",
    "\n",
    "classifier = clf.best_estimator_"
   ]
  },
  {
   "cell_type": "code",
   "execution_count": 7,
   "metadata": {},
   "outputs": [],
   "source": [
    "import joblib\n",
    "\n",
    "joblib.dump(pipeline, \"pipeline.pkl\");\n",
    "joblib.dump(classifier, \"classifier.pkl\");"
   ]
  },
  {
   "cell_type": "code",
   "execution_count": 8,
   "metadata": {},
   "outputs": [
    {
     "output_type": "stream",
     "name": "stdout",
     "text": [
      "XGB Accuracy:\t 0.8\nDummy Accuracy\t 0.5700000000000001\n"
     ]
    }
   ],
   "source": [
    "import numpy as np\n",
    "\n",
    "from sklearn.model_selection import cross_val_score\n",
    "from sklearn.dummy import DummyClassifier\n",
    "\n",
    "dummy_clf = DummyClassifier().fit(messages, y_train[:N])\n",
    "dummy_train_accuracy = np.mean(cross_val_score(dummy_clf, features, y_train[:N], cv=5))\n",
    "xgb_train_accuracy = np.mean(cross_val_score(classifier, features, y_train[:N], cv=5))\n",
    "print(\"XGB Accuracy:\\t\", xgb_train_accuracy)\n",
    "print(\"Dummy Accuracy\\t\", dummy_train_accuracy)"
   ]
  },
  {
   "cell_type": "code",
   "execution_count": null,
   "metadata": {},
   "outputs": [],
   "source": []
  }
 ],
 "metadata": {
  "kernelspec": {
   "display_name": "Python 3",
   "language": "python",
   "name": "python3"
  },
  "language_info": {
   "codemirror_mode": {
    "name": "ipython",
    "version": 3
   },
   "file_extension": ".py",
   "mimetype": "text/x-python",
   "name": "python",
   "nbconvert_exporter": "python",
   "pygments_lexer": "ipython3",
   "version": "3.8.5-final"
  }
 },
 "nbformat": 4,
 "nbformat_minor": 4
}