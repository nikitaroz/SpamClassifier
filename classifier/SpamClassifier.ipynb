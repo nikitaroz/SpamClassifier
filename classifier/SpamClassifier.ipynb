{
 "cells": [
  {
   "cell_type": "code",
   "execution_count": 1,
   "source": [
    "import json\n",
    "import os\n",
    "\n",
    "import joblib\n",
    "import numpy as np\n",
    "\n",
    "from sklearn.model_selection import train_test_split\n",
    "from utils import fetch_data, get_data_urls, get_labeled_files\n",
    "\n",
    "DATA_DIR = \"data\"\n",
    "RESULTS_DIR = \"results\"\n",
    "if not os.path.exists(DATA_DIR):\n",
    "    os.mkdir(DATA_DIR)\n",
    "if not os.path.exists(RESULTS_DIR):\n",
    "    os.mkdir(RESULTS_DIR)\n",
    "\n",
    "#data_urls = get_data_urls()\n",
    "#fetch_data(data_urls, DATA_DIR)\n",
    "data_files, class_labels = get_labeled_files(DATA_DIR)\n",
    "train_files, test_files, y_train, y_test = train_test_split(\n",
    "    data_files, class_labels, test_size=0.2, random_state=44\n",
    ")\n",
    "\n",
    "print(f\"Training set size is\\t {len(train_files)}\")\n",
    "print(f\"Test set size is\\t {len(test_files)}\")"
   ],
   "outputs": [
    {
     "output_type": "stream",
     "name": "stdout",
     "text": [
      "Training set size is\t 7479\n",
      "Test set size is\t 1870\n"
     ]
    }
   ],
   "metadata": {}
  },
  {
   "cell_type": "code",
   "execution_count": 2,
   "source": [
    "from sklearn.compose import ColumnTransformer\n",
    "from sklearn.feature_extraction.text import TfidfTransformer, CountVectorizer\n",
    "from sklearn.pipeline import Pipeline\n",
    "from sklearn.preprocessing import StandardScaler\n",
    "\n",
    "from message_transformer import MessageTransformer\n",
    "\n",
    "pipeline = Pipeline(\n",
    "    [\n",
    "        (\"message_trf\", MessageTransformer()),\n",
    "        (\n",
    "            \"vectorizer\",\n",
    "            ColumnTransformer(\n",
    "                [\n",
    "                    (\n",
    "                        \"tdidf_body_vectorizer\", Pipeline(steps=[\n",
    "                            (\"counter\", CountVectorizer(max_features=5000)),\n",
    "                            (\"tfidf\", TfidfTransformer())\n",
    "                        ]),\n",
    "                        \"tokens\",\n",
    "                    ),\n",
    "                    (\"std_scaler\", StandardScaler(), [\"num_links\", \"cap_max\"]),\n",
    "                ],\n",
    "                remainder=\"passthrough\",\n",
    "            ),\n",
    "        ),\n",
    "    ]\n",
    ")\n",
    "joblib.dump(pipeline, os.path.join(RESULTS_DIR, \"pipeline.pkl\"));"
   ],
   "outputs": [
    {
     "output_type": "stream",
     "name": "stderr",
     "text": [
      "[nltk_data] Downloading package words to /Users/nikita/nltk_data...\n",
      "[nltk_data]   Unzipping corpora/words.zip.\n",
      "[nltk_data] Downloading package stopwords to\n",
      "[nltk_data]     /Users/nikita/nltk_data...\n",
      "[nltk_data]   Unzipping corpora/stopwords.zip.\n"
     ]
    }
   ],
   "metadata": {}
  },
  {
   "cell_type": "code",
   "execution_count": 3,
   "source": [
    "%%capture\n",
    "\n",
    "X_train = pipeline.fit_transform(train_files)\n",
    "joblib.dump(X_train, os.path.join(RESULTS_DIR, \"features.pkl\"))"
   ],
   "outputs": [],
   "metadata": {
    "tags": []
   }
  },
  {
   "cell_type": "code",
   "execution_count": 4,
   "source": [
    "import xgboost as xgb\n",
    "\n",
    "from sklearn.model_selection import GridSearchCV\n",
    "\n",
    "parameters = {\n",
    "    \"lambda\": (0.0, 0.0001, 0.01),\n",
    "    \"alpha\": (0.0, 0.0001, 0.01),\n",
    "}\n",
    "xgb_clf = xgb.XGBClassifier(booster=\"gblinear\")\n",
    "grid_search = GridSearchCV(xgb_clf, parameters, cv=5)\n",
    "grid_search.fit(X_train, y_train)\n",
    "\n",
    "classifier = grid_search.best_estimator_\n",
    "joblib.dump(classifier, os.path.join(RESULTS_DIR, \"classifier.pkl\"))\n",
    "\n",
    "print(\"Best parameters for linear classifier:\", grid_search.best_params_)"
   ],
   "outputs": [
    {
     "output_type": "stream",
     "name": "stdout",
     "text": [
      "Best parameters for linear classifier: {'alpha': 0.0, 'lambda': 0.0}\n"
     ]
    }
   ],
   "metadata": {}
  },
  {
   "cell_type": "code",
   "execution_count": 5,
   "source": [
    "from sklearn.dummy import DummyClassifier\n",
    "from sklearn.model_selection import cross_val_score\n",
    "\n",
    "dummy_clf = DummyClassifier(strategy=\"prior\").fit(X_train, y_train)\n",
    "dummy_train_accuracy = np.mean(cross_val_score(dummy_clf, X_train, y_train, cv=5))\n",
    "xgb_train_accuracy = np.mean(cross_val_score(classifier, X_train, y_train, cv=5))\n",
    "\n",
    "print(\"XGB Accuracy:\\t\", xgb_train_accuracy)\n",
    "print(\"Dummy Accuracy\\t\", dummy_train_accuracy)"
   ],
   "outputs": [
    {
     "output_type": "stream",
     "name": "stdout",
     "text": [
      "XGB Accuracy:\t 0.9790067605029241\n",
      "Dummy Accuracy\t 0.7432811689589183\n"
     ]
    }
   ],
   "metadata": {}
  },
  {
   "cell_type": "code",
   "execution_count": 6,
   "source": [
    "%%capture\n",
    "\n",
    "from sklearn.metrics import confusion_matrix\n",
    "\n",
    "X_test = pipeline.transform(test_files)\n",
    "\n",
    "train_conf_mat = confusion_matrix(y_train, classifier.predict(X_train))\n",
    "test_conf_mat = confusion_matrix(y_test, classifier.predict(X_test))\n",
    "\n",
    "\n",
    "def conf_to_dict(mat):\n",
    "    return {\n",
    "        \"trueNegative\": int(mat[0, 0]),\n",
    "        \"falseNegative\": int(mat[1, 0]),\n",
    "        \"falsePositive\": int(mat[0, 1]),\n",
    "        \"truePositive\": int(mat[1, 1]),\n",
    "    }\n",
    "\n",
    "confusion_matrix = {\n",
    "    \"trainingSet\": conf_to_dict(train_conf_mat),\n",
    "    \"testingSet\": conf_to_dict(test_conf_mat)\n",
    "}\n",
    "\n",
    "json.dump(confusion_matrix, open(\"results/confusion_matrix.json\", \"w+\"))"
   ],
   "outputs": [],
   "metadata": {}
  },
  {
   "cell_type": "code",
   "execution_count": 7,
   "source": [
    "%%capture\n",
    "\n",
    "import database_connector\n",
    "\n",
    "DATABASE = os.path.join(RESULTS_DIR, \"spam.db\")\n",
    "if(os.path.exists(DATABASE)):\n",
    "    os.remove(DATABASE)\n",
    "db_connector = database_connector.DatabaseConnector(DATABASE, pipeline, classifier, test_files)\n",
    "db_connector.populate_schema(\"../schema.sql\")\n",
    "\n",
    "db_connector.populate_feature_table(commit=True)\n",
    "db_connector.populate_message_table(y_test, commit=True)"
   ],
   "outputs": [],
   "metadata": {}
  }
 ],
 "metadata": {
  "kernelspec": {
   "name": "python3",
   "display_name": "Python 3.8.5 64-bit ('spam': conda)"
  },
  "language_info": {
   "codemirror_mode": {
    "name": "ipython",
    "version": 3
   },
   "file_extension": ".py",
   "mimetype": "text/x-python",
   "name": "python",
   "nbconvert_exporter": "python",
   "pygments_lexer": "ipython3",
   "version": "3.8.5"
  },
  "interpreter": {
   "hash": "d7b7f8d78a4864c3fcd501d2a57df9538e840eef26a52f1d84a5f9f72e6d8bbc"
  }
 },
 "nbformat": 4,
 "nbformat_minor": 4
}