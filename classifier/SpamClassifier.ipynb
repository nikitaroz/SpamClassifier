{
 "cells": [
  {
   "cell_type": "code",
   "execution_count": 1,
   "metadata": {},
   "outputs": [
    {
     "name": "stdout",
     "output_type": "stream",
     "text": [
      "Training set size is\t 7479\n",
      "Test set size is\t 1870\n"
     ]
    }
   ],
   "source": [
    "import os\n",
    "\n",
    "import joblib\n",
    "import numpy as np\n",
    "\n",
    "from sklearn.model_selection import train_test_split\n",
    "from utils import fetch_data, get_data_urls, get_labeled_files\n",
    "\n",
    "DATA_DIR = \"data\"\n",
    "RESULTS_DIR = \"results\"\n",
    "if not os.path.exists(DATA_DIR):\n",
    "    os.mkdir(DATA_DIR)\n",
    "if not os.path.exists(RESULTS_DIR):\n",
    "    os.mkdir(RESULTS_DIR)\n",
    "\n",
    "data_urls = get_data_urls()\n",
    "fetch_data(data_urls, DATA_DIR)\n",
    "data_files, class_labels = get_labeled_files(DATA_DIR)\n",
    "train_files, test_files, y_train, y_test = train_test_split(\n",
    "    data_files, class_labels, test_size=0.2, random_state=44\n",
    ")\n",
    "\n",
    "print(f\"Training set size is\\t {len(train_files)}\")\n",
    "print(f\"Test set size is\\t {len(test_files)}\")"
   ]
  },
  {
   "cell_type": "code",
   "execution_count": 2,
   "metadata": {},
   "outputs": [],
   "source": [
    "from sklearn.compose import ColumnTransformer\n",
    "from sklearn.feature_extraction.text import TfidfVectorizer\n",
    "from sklearn.pipeline import Pipeline\n",
    "from sklearn.preprocessing import StandardScaler\n",
    "\n",
    "from message_transformer import MessageTransformer\n",
    "\n",
    "pipeline = Pipeline(\n",
    "    [\n",
    "        (\"message_trf\", MessageTransformer()),\n",
    "        (\n",
    "            \"vectorizer\",\n",
    "            ColumnTransformer(\n",
    "                [\n",
    "                    (\n",
    "                        \"tdidf_body_vectorizer\",\n",
    "                        TfidfVectorizer(max_features=5000),\n",
    "                        \"tokens\",\n",
    "                    ),\n",
    "                    (\"std_scaler\", StandardScaler(), [\"num_links\", \"cap_max\"]),\n",
    "                ],\n",
    "                remainder=\"passthrough\",\n",
    "            ),\n",
    "        ),\n",
    "    ]\n",
    ")\n",
    "joblib.dump(pipeline, os.path.join(RESULTS_DIR, \"pipeline.pkl\"));"
   ]
  },
  {
   "cell_type": "code",
   "execution_count": 3,
   "metadata": {},
   "outputs": [],
   "source": [
    "%%capture\n",
    "\n",
    "X_train = pipeline.fit_transform(train_files)\n",
    "joblib.dump(X_train, os.path.join(RESULTS_DIR, \"features.pkl\"))"
   ]
  },
  {
   "cell_type": "code",
   "execution_count": 4,
   "metadata": {},
   "outputs": [
    {
     "name": "stdout",
     "output_type": "stream",
     "text": [
      "Best parameters for linear classifier: {'alpha': 0.0, 'lambda': 0.0}\n"
     ]
    }
   ],
   "source": [
    "import xgboost as xgb\n",
    "\n",
    "from sklearn.model_selection import GridSearchCV\n",
    "\n",
    "parameters = {\n",
    "    \"lambda\": (0.0, 0.0001, 0.01),\n",
    "    \"alpha\": (0.0, 0.0001, 0.01),\n",
    "}\n",
    "xgb_clf = xgb.XGBClassifier(booster=\"gblinear\")\n",
    "grid_search = GridSearchCV(xgb_clf, parameters, cv=5)\n",
    "grid_search.fit(X_train, y_train)\n",
    "\n",
    "classifier = grid_search.best_estimator_\n",
    "joblib.dump(classifier, os.path.join(RESULTS_DIR, \"classifier.pkl\"))\n",
    "\n",
    "print(\"Best parameters for linear classifier:\", grid_search.best_params_)"
   ]
  },
  {
   "cell_type": "code",
   "execution_count": 5,
   "metadata": {},
   "outputs": [
    {
     "name": "stdout",
     "output_type": "stream",
     "text": [
      "XGB Accuracy:\t 0.9802103267576413\n",
      "Dummy Accuracy\t 0.6187985799366873\n"
     ]
    }
   ],
   "source": [
    "from sklearn.dummy import DummyClassifier\n",
    "from sklearn.model_selection import cross_val_score\n",
    "\n",
    "dummy_clf = DummyClassifier().fit(X_train, y_train)\n",
    "dummy_train_accuracy = np.mean(cross_val_score(dummy_clf, X_train, y_train, cv=5))\n",
    "xgb_train_accuracy = np.mean(cross_val_score(classifier, X_train, y_train, cv=5))\n",
    "\n",
    "print(\"XGB Accuracy:\\t\", xgb_train_accuracy)\n",
    "print(\"Dummy Accuracy\\t\", dummy_train_accuracy)"
   ]
  },
  {
   "cell_type": "code",
   "execution_count": 7,
   "metadata": {},
   "outputs": [
    {
     "name": "stderr",
     "output_type": "stream",
     "text": [
      "Email content 'pgp-signature' not handled\n",
      "Email content 'pgp-signature' not handled\n",
      "Email content 'pgp-signature' not handled\n",
      "Email content 'pgp-signature' not handled\n",
      "Email content 'pgp-signature' not handled\n",
      "More than one match found for (?:with(?! cipher)\\s+(?P<with>.+?)(?:\\s*[(]?envelope-from|\\s*[(]?envelope-sender|\\s+from|\\s+by|\\s+id|\\s+for|\\s+via|;)) in from unknown HELO ?192.168.0.100? salimma1@212.18.241.211 with plain by smtp.mail.vip.sc5.yahoo.com with SMTP; 10 Oct 2002 10:30:25 -0000\n",
      "More than one match found for (?:with(?! cipher)\\s+(?P<with>.+?)(?:\\s*[(]?envelope-from|\\s*[(]?envelope-sender|\\s+from|\\s+by|\\s+id|\\s+for|\\s+via|;)) in from unknown HELO ?192.168.0.100? salimma1@212.18.241.211 with plain by smtp.mail.vip.sc5.yahoo.com with SMTP; 10 Oct 2002 10:30:25 -0000\n",
      "Email content 'pgp-signature' not handled\n",
      "Email content 'pgp-signature' not handled\n",
      "Email content 'pgp-signature' not handled\n",
      "Email content 'pgp-signature' not handled\n",
      "Email content 'pgp-signature' not handled\n",
      "Email content 'pgp-signature' not handled\n",
      "Email content 'pgp-signature' not handled\n",
      "Email content 'pgp-signature' not handled\n",
      "Email content 'pgp-signature' not handled\n",
      "Email content 'pgp-signature' not handled\n",
      "Email content 'pgp-signature' not handled\n",
      "Email content 'pgp-signature' not handled\n",
      "More than one match found for (?:with(?! cipher)\\s+(?P<with>.+?)(?:\\s*[(]?envelope-from|\\s*[(]?envelope-sender|\\s+from|\\s+by|\\s+id|\\s+for|\\s+via|;)) in from p102.as1.cra.dublin.eircom.net HELO mfrenchw2k mfrench42@159.134.176.102 with login by smtp.mail.vip.sc5.yahoo.com with SMTP; 20 Jul 2002 13:26:16 -0000\n",
      "More than one match found for (?:with(?! cipher)\\s+(?P<with>.+?)(?:\\s*[(]?envelope-from|\\s*[(]?envelope-sender|\\s+from|\\s+by|\\s+id|\\s+for|\\s+via|;)) in from p102.as1.cra.dublin.eircom.net HELO mfrenchw2k mfrench42@159.134.176.102 with login by smtp.mail.vip.sc5.yahoo.com with SMTP; 20 Jul 2002 13:26:16 -0000\n",
      "Email content 'ms-tnef' not handled\n",
      "Email content 'pgp-signature' not handled\n",
      "Email content 'pgp-signature' not handled\n",
      "Email content 'pgp-signature' not handled\n",
      "Email content 'pgp-signature' not handled\n",
      "Email content 'pgp-signature' not handled\n",
      "Email content 'pgp-signature' not handled\n",
      "Email content 'pgp-signature' not handled\n",
      "Email content 'pgp-signature' not handled\n",
      "Email content 'pgp-signature' not handled\n",
      "Email content 'pgp-signature' not handled\n"
     ]
    }
   ],
   "source": [
    "import database_connector\n",
    "\n",
    "DATABASE = os.path.join(RESULTS_DIR, \"spam.db\")\n",
    "# removes the database if it already exists.\n",
    "os.remove(DATABASE)\n",
    "db_connector = database_connector.DatabaseConnector(DATABASE, pipeline, classifier)\n",
    "db_connector.populate_schema(\"../schema.sql\")\n",
    "\n",
    "db_connector.populate_feature_table(commit=True)\n",
    "db_connector.populate_message_table(test_files, y_test, commit=True)"
   ]
  }
 ],
 "metadata": {
  "kernelspec": {
   "display_name": "Python 3.8.5 64-bit ('spam': conda)",
   "metadata": {
    "interpreter": {
     "hash": "d7b7f8d78a4864c3fcd501d2a57df9538e840eef26a52f1d84a5f9f72e6d8bbc"
    }
   },
   "name": "python3"
  },
  "language_info": {
   "codemirror_mode": {
    "name": "ipython",
    "version": 3
   },
   "file_extension": ".py",
   "mimetype": "text/x-python",
   "name": "python",
   "nbconvert_exporter": "python",
   "pygments_lexer": "ipython3",
   "version": "3.8.5"
  }
 },
 "nbformat": 4,
 "nbformat_minor": 4
}